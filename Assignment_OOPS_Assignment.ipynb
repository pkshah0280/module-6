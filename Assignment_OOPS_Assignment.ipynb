{
  "nbformat": 4,
  "nbformat_minor": 0,
  "metadata": {
    "colab": {
      "provenance": []
    },
    "kernelspec": {
      "name": "python3",
      "display_name": "Python 3"
    },
    "language_info": {
      "name": "python"
    }
  },
  "cells": [
    {
      "cell_type": "markdown",
      "source": [
        "1. What is Object-Oriented Programming (OOP)?\n",
        "  - Object-Oriented Programming (OOP) is a programming paradigm centered around the concept of \"objects\", which are instances of classes. These objects bundle together data (attributes or properties) and behavior (methods or functions) in a single unit."
      ],
      "metadata": {
        "id": "0hxQKISD3dm1"
      }
    },
    {
      "cell_type": "markdown",
      "source": [
        "2. What is a class in OOP?\n",
        "  - In Object-Oriented Programming (OOP), a class is a blueprint or template for creating objects. It defines the structure and behavior that the created objects (instances) will have."
      ],
      "metadata": {
        "id": "wbJSlxX44oY2"
      }
    },
    {
      "cell_type": "markdown",
      "source": [
        "3.  What is an object in OOP?\n",
        "  - In Object-Oriented Programming (OOP), an object is an instance of a class. It represents a specific, real-world entity created using the class as a blueprint, with its own unique data and the ability to perform actions defined by the class."
      ],
      "metadata": {
        "id": "cxeWKogx479p"
      }
    },
    {
      "cell_type": "markdown",
      "source": [
        "4.  What is the difference between abstraction and encapsulation?\n",
        "  - Abstraction and Encapsulation are two fundamental but distinct concepts in Object-Oriented Programming (OOP). Here's how they differ:\n",
        "\n",
        "\n",
        "\n",
        "      Abstraction is the concept of hiding the complex implementation details and showing only the essential features of an object.\n",
        "\n",
        "      Encapsulation is the process of bundling data (attributes) and methods that operate on the data into a single unit (class), and restricting direct access to some of the object’s components."
      ],
      "metadata": {
        "id": "LxHIRZvH5SDp"
      }
    },
    {
      "cell_type": "markdown",
      "source": [
        "5. What are dunder methods in Python?\n",
        "  - Dunder methods (short for “double underscore” methods) in Python are special methods that start and end with double underscores, like __init__, __str__, __len__, etc. They are also known as magic methods or special methods, and they allow you to define custom behavior for built-in Python operations"
      ],
      "metadata": {
        "id": "4LWmuk105kgg"
      }
    },
    {
      "cell_type": "markdown",
      "source": [
        "6. Explain the concept of inheritance in OOP?\n",
        "  - Inheritance is a core concept in OOP that allows a class (child or subclass) to inherit properties and behaviors (methods and attributes) from another class (parent or superclass)."
      ],
      "metadata": {
        "id": "M2enpxC457um"
      }
    },
    {
      "cell_type": "markdown",
      "source": [
        "7. What is polymorphism in OOP?\n",
        "  - Polymorphism in Object-Oriented Programming (OOP) means \"many forms.\" It allows objects of different classes to be treated through a common interface, typically by sharing a parent class or interface, while behaving differently depending on their specific type."
      ],
      "metadata": {
        "id": "iz8e9HFy6IU9"
      }
    },
    {
      "cell_type": "markdown",
      "source": [
        "8. How is encapsulation achieved in Python?\n",
        "  - Encapsulation in Python is achieved by restricting access to variables and methods within a class using access modifiers. It helps protect data from unintended modification and ensures it is used only in controlled ways."
      ],
      "metadata": {
        "id": "vD9Sg9rf6TvM"
      }
    },
    {
      "cell_type": "markdown",
      "source": [
        "9. What is a constructor in Python?\n",
        "  - A constructor in Python is a special method used to initialize a new object when it is created from a class. In Python, this is done using the __init__() method."
      ],
      "metadata": {
        "id": "hWsDcvem6fV6"
      }
    },
    {
      "cell_type": "markdown",
      "source": [
        "10.  What are class and static methods in Python?\n",
        "  - In Python, both class methods and static methods are used for behaviors that don’t operate on individual instances, but they serve different purposes and are declared differently."
      ],
      "metadata": {
        "id": "UBOLk8Na6prF"
      }
    },
    {
      "cell_type": "markdown",
      "source": [
        "11. What is method overloading in Python?\n",
        "  - Method Overloading allows a class to have multiple methods with the same name, but with different parameters. This is commonly seen in languages like Java or C++, but Python does not support method overloading in the traditional sense.\n",
        "\n",
        "    In Python, you cannot define multiple methods with the same name. However, you can simulate method overloading by using default parameters or checking the number and types of arguments passed to the method."
      ],
      "metadata": {
        "id": "l_H8dJR760Np"
      }
    },
    {
      "cell_type": "markdown",
      "source": [
        "12. What is method overriding in OOP?\n",
        "  - Method Overriding occurs when a subclass (child class) provides a new implementation for a method that is already defined in its parent class (superclass). The method in the subclass has the same name, same signature (same number and type of parameters), and same return type."
      ],
      "metadata": {
        "id": "aSlA_Q_67EY-"
      }
    },
    {
      "cell_type": "markdown",
      "source": [
        "13.  What is a property decorator in Python?\n",
        "  - The @property decorator in Python is used to define getter methods that act like attributes. This allows you to access a method as if it were an attribute, without explicitly calling it like a function."
      ],
      "metadata": {
        "id": "2hgApCUk7Mad"
      }
    },
    {
      "cell_type": "markdown",
      "source": [
        "14. Why is polymorphism important in OOP?\n",
        "  - Polymorphism is a fundamental concept in Object-Oriented Programming (OOP), and it plays a crucial role in making OOP more powerful, flexible, and maintainable. By enabling objects of different types to be treated in a unified way, polymorphism enhances code reusability, flexibility, and scalability."
      ],
      "metadata": {
        "id": "dMfWXAPQ7cVD"
      }
    },
    {
      "cell_type": "markdown",
      "source": [
        "15. What is an abstract class in Python?\n",
        "  - An abstract class in Python is a class that cannot be instantiated directly and serves as a blueprint for other classes. It is meant to define methods that must be created within any child classes, ensuring that certain methods are implemented in the subclasses.\n",
        "\n",
        "Abstract classes are part of the Abstract Base Class (ABC) module in Python. These classes can contain both abstract methods (methods that must be implemented by subclasses) and concrete methods (regular methods that have an implementation)."
      ],
      "metadata": {
        "id": "VzHKc3kk7iSv"
      }
    },
    {
      "cell_type": "markdown",
      "source": [
        "16.  What are the advantages of OOP?\n",
        "  - Object-Oriented Programming (OOP) is a powerful programming paradigm that organizes code into objects and classes, promoting reusability, scalability, and maintainability. It offers several advantages, making it a popular choice for developing complex and large software systems."
      ],
      "metadata": {
        "id": "7pQ9b3Su7rau"
      }
    },
    {
      "cell_type": "markdown",
      "source": [
        "17. What is the difference between a class variable and an instance variable?\n",
        "  - Class variables and instance variables both store data related to objects, but they serve different purposes. Here is a detailed breakdown of the key differences between class variables and instance variables:\n",
        "\n",
        "\n",
        "  Class Variable: A variable that is shared by all instances of the class. It is defined within the class but outside any methods.\n",
        "\n",
        "  Instance Variable: A variable that is specific to each instance of the class. It is usually defined inside the __init__ method (constructor) and is unique to each object created from the class.\n",
        "\n",
        "  Class Variable: Allocated once for the entire class and is shared by all instances.\n",
        "\n",
        "  Instance Variable: Allocated individually for each instance of the class. Each instance gets its own memory space for instance variables."
      ],
      "metadata": {
        "id": "lYXM-wKH712y"
      }
    },
    {
      "cell_type": "markdown",
      "source": [
        "18.  What is multiple inheritance in Python?\n",
        "  - Multiple inheritance is a feature in Python that allows a class to inherit attributes and methods from more than one parent class. In other words, a subclass can have multiple superclasses, meaning it can inherit characteristics (methods and attributes) from multiple classes, combining their functionality."
      ],
      "metadata": {
        "id": "CvZ-BzSP8bSh"
      }
    },
    {
      "cell_type": "markdown",
      "source": [
        "19. Explain the purpose of ‘’__str__’ and ‘__repr__’ ‘ methods in Python?\n",
        "  -  The __str__ method is meant to return a human-readable string representation of an object. When you print an object using print(), Python calls the __str__ method (if it’s defined) to convert the object to a string.\n",
        "\n",
        "    - The __repr__ method is meant to return an official string representation of the object. The goal is to provide a string that could, in theory, be used to recreate the object (or at least give enough detail about it for debugging).\n",
        "    \n",
        "    - The __repr__ method is often used for developer-oriented output, such as debugging or inspecting objects in an interactive session."
      ],
      "metadata": {
        "id": "ONGl5ax98iD1"
      }
    },
    {
      "cell_type": "markdown",
      "source": [
        "20.  What is the significance of the ‘super()’ function in Python?\n",
        "  - The super() function in Python is used to call methods from a parent class (also known as the superclass) in a child class (subclass). It is especially useful in scenarios involving inheritance, where you want to invoke the methods of a superclass without explicitly naming the parent class."
      ],
      "metadata": {
        "id": "WdPXGpz69AtV"
      }
    },
    {
      "cell_type": "markdown",
      "source": [
        "21. What is the significance of the __ del __ method in Python?\n",
        "  - The __del__ method in Python is a special method (often referred to as a destructor) that is automatically called when an object is about to be destroyed or garbage-collected. It provides an opportunity to clean up resources (like closing files, releasing network connections, or freeing up memory) before the object is deleted."
      ],
      "metadata": {
        "id": "xg4xqoad9J6G"
      }
    },
    {
      "cell_type": "markdown",
      "source": [
        "22. What is the difference between @staticmethod and @classmethod in Python?\n",
        "  - In Python, both @staticmethod and @classmethod are decorators used to define methods that belong to a class but do not require access to instance-specific data. While they share some similarities, they have key differences in how they work and how they can be used.\n",
        "\n",
        "  - A static method is a method that does not take an implicit first argument (self or cls). It behaves like a regular function, but it belongs to the class's namespace.\n",
        "  \n",
        "  - A class method is a method that takes the class itself (cls) as the first argument. It can modify class-level attributes but cannot modify instance-specific attributes. It is used for operations that involve the class as a whole rather than any specific instance."
      ],
      "metadata": {
        "id": "yT6E-K0l9WzR"
      }
    },
    {
      "cell_type": "markdown",
      "source": [
        "23.  How does polymorphism work in Python with inheritance?\n",
        "  - Polymorphism in Python refers to the ability of different classes to respond to the same method or function call in a way that is specific to each class. This allows you to write more flexible and reusable code. With inheritance, polymorphism enables objects of different classes to be treated as objects of a common superclass while still invoking methods that behave differently depending on the class of the object.\n",
        "  "
      ],
      "metadata": {
        "id": "1n5gvxDH9rpJ"
      }
    },
    {
      "cell_type": "markdown",
      "source": [
        "24. What is method chaining in Python OOP?\n",
        "  - Method chaining is a technique in object-oriented programming (OOP) where multiple methods are called on the same object in a single line of code. Each method call returns the object itself (or another object of the same class), which allows you to call multiple methods consecutively on the same object.\n",
        "\n",
        "  - This technique can make your code more concise and easier to read, as it reduces the need for repetitive variable assignments between method calls."
      ],
      "metadata": {
        "id": "Uu9Z6yq191JR"
      }
    },
    {
      "cell_type": "markdown",
      "source": [
        "25. What is the purpose of the __call__ method in Python?\n",
        "  - In Python, the __call__ method is a special method that allows an instance of a class to be called like a regular function. By implementing the __call__ method, you make the object \"callable,\" meaning you can use an object as if it were a function."
      ],
      "metadata": {
        "id": "yDxkFIc89929"
      }
    },
    {
      "cell_type": "markdown",
      "source": [
        "Practical Questions"
      ],
      "metadata": {
        "id": "OCe1XMdy-Zod"
      }
    },
    {
      "cell_type": "markdown",
      "source": [
        "1.  Create a parent class Animal with a method speak() that prints a generic message. Create a child class Dog\n",
        "that overrides the speak() method to print \"Bark!\"."
      ],
      "metadata": {
        "id": "vWpaWU-x-cGt"
      }
    },
    {
      "cell_type": "code",
      "source": [
        "# Parent class\n",
        "class Animal:\n",
        "    def speak(self):\n",
        "        print(\"Animal makes a sound\")\n",
        "\n",
        "# Child class that inherits from Animal\n",
        "class Dog(Animal):\n",
        "    def speak(self):\n",
        "        print(\"Bark!\")\n",
        "\n",
        "# Create an instance of Dog\n",
        "dog = Dog()\n",
        "dog.speak()  # Output: Bark!\n"
      ],
      "metadata": {
        "colab": {
          "base_uri": "https://localhost:8080/"
        },
        "id": "Gg63vG786GL4",
        "outputId": "f58b15e4-4572-40ee-e2b5-4edfbb189571"
      },
      "execution_count": null,
      "outputs": [
        {
          "output_type": "stream",
          "name": "stdout",
          "text": [
            "Bark!\n"
          ]
        }
      ]
    },
    {
      "cell_type": "markdown",
      "source": [
        "2.  Write a program to create an abstract class Shape with a method area(). Derive classes Circle and Rectangle\n",
        "from it and implement the area() method in both."
      ],
      "metadata": {
        "id": "6cObfJ94-vyM"
      }
    },
    {
      "cell_type": "code",
      "source": [
        "from abc import ABC, abstractmethod\n",
        "import math\n",
        "\n",
        "# Abstract class\n",
        "class Shape(ABC):\n",
        "    @abstractmethod\n",
        "    def area(self):\n",
        "        pass\n",
        "\n",
        "# Derived class for Circle\n",
        "class Circle(Shape):\n",
        "    def __init__(self, radius):\n",
        "        self.radius = radius\n",
        "\n",
        "    def area(self):\n",
        "        return math.pi * self.radius ** 2\n",
        "\n",
        "# Derived class for Rectangle\n",
        "class Rectangle(Shape):\n",
        "    def __init__(self, length, width):\n",
        "        self.length = length\n",
        "        self.width = width\n",
        "\n",
        "    def area(self):\n",
        "        return self.length * self.width\n",
        "\n",
        "# Create instances of Circle and Rectangle\n",
        "circle = Circle(5)\n",
        "rectangle = Rectangle(4, 6)\n",
        "\n",
        "# Calculate and print the areas\n",
        "print(f\"Area of the circle: {circle.area():.2f}\")\n",
        "print(f\"Area of the rectangle: {rectangle.area():.2f}\")\n"
      ],
      "metadata": {
        "colab": {
          "base_uri": "https://localhost:8080/"
        },
        "id": "JgyOtq2Q-ltS",
        "outputId": "c16002b7-4c93-4b11-9240-a1e78a2c9189"
      },
      "execution_count": null,
      "outputs": [
        {
          "output_type": "stream",
          "name": "stdout",
          "text": [
            "Area of the circle: 78.54\n",
            "Area of the rectangle: 24.00\n"
          ]
        }
      ]
    },
    {
      "cell_type": "markdown",
      "source": [
        "3. Implement a multi-level inheritance scenario where a class Vehicle has an attribute type. Derive a class Car\n",
        "and further derive a class ElectricCar that adds a battery attribute."
      ],
      "metadata": {
        "id": "ZKiFF4dV--5I"
      }
    },
    {
      "cell_type": "code",
      "source": [
        "# Parent class - Vehicle\n",
        "class Vehicle:\n",
        "    def __init__(self, type):\n",
        "        self.type = type\n",
        "\n",
        "    def display_type(self):\n",
        "        print(f\"Vehicle type: {self.type}\")\n",
        "\n",
        "# Child class - Car, inherits from Vehicle\n",
        "class Car(Vehicle):\n",
        "    def __init__(self, type, brand):\n",
        "        # Call the parent class constructor to initialize type\n",
        "        super().__init__(type)\n",
        "        self.brand = brand\n",
        "\n",
        "    def display_brand(self):\n",
        "        print(f\"Car brand: {self.brand}\")\n",
        "\n",
        "# Grandchild class - ElectricCar, inherits from Car\n",
        "class ElectricCar(Car):\n",
        "    def __init__(self, type, brand, battery):\n",
        "        # Call the parent class constructor to initialize type and brand\n",
        "        super().__init__(type, brand)\n",
        "        self.battery = battery\n",
        "\n",
        "    def display_battery(self):\n",
        "        print(f\"Electric Car battery: {self.battery} kWh\")\n",
        "\n",
        "# Creating an instance of ElectricCar\n",
        "electric_car = ElectricCar(\"Electric\", \"Tesla\", 75)\n",
        "\n",
        "# Displaying attributes using methods from all levels of inheritance\n",
        "electric_car.display_type()     # From Vehicle\n",
        "electric_car.display_brand()    # From Car\n",
        "electric_car.display_battery()  # From ElectricCar\n"
      ],
      "metadata": {
        "colab": {
          "base_uri": "https://localhost:8080/"
        },
        "id": "ZxPQKfk3-4lA",
        "outputId": "d52ba73f-3e6c-43bb-c9bd-25430d759caa"
      },
      "execution_count": null,
      "outputs": [
        {
          "output_type": "stream",
          "name": "stdout",
          "text": [
            "Vehicle type: Electric\n",
            "Car brand: Tesla\n",
            "Electric Car battery: 75 kWh\n"
          ]
        }
      ]
    },
    {
      "cell_type": "markdown",
      "source": [
        "4. Demonstrate polymorphism by creating a base class Bird with a method fly(). Create two derived classes\n",
        "Sparrow and Penguin that override the fly() method.\n"
      ],
      "metadata": {
        "id": "rFHZ4rN3_Tag"
      }
    },
    {
      "cell_type": "code",
      "source": [
        "# Base class - Bird\n",
        "class Bird:\n",
        "    def fly(self):\n",
        "        print(\"This bird can fly.\")\n",
        "\n",
        "# Derived class - Sparrow, overrides fly() method\n",
        "class Sparrow(Bird):\n",
        "    def fly(self):\n",
        "        print(\"Sparrow is flying in the sky.\")\n",
        "\n",
        "# Derived class - Penguin, overrides fly() method\n",
        "class Penguin(Bird):\n",
        "    def fly(self):\n",
        "        print(\"Penguin cannot fly, but it can swim.\")\n",
        "\n",
        "# Create instances of Sparrow and Penguin\n",
        "sparrow = Sparrow()\n",
        "penguin = Penguin()\n",
        "\n",
        "# Demonstrating polymorphism by calling the same method (fly()) on different objects\n",
        "sparrow.fly()  # Output: Sparrow is flying in the sky.\n",
        "penguin.fly()  # Output: Penguin cannot fly, but it can swim.\n"
      ],
      "metadata": {
        "colab": {
          "base_uri": "https://localhost:8080/"
        },
        "id": "2Xh912hI_HH7",
        "outputId": "d96a21c5-d6e7-44e2-c077-aa242c951271"
      },
      "execution_count": null,
      "outputs": [
        {
          "output_type": "stream",
          "name": "stdout",
          "text": [
            "Sparrow is flying in the sky.\n",
            "Penguin cannot fly, but it can swim.\n"
          ]
        }
      ]
    },
    {
      "cell_type": "markdown",
      "source": [
        "5. Write a program to demonstrate encapsulation by creating a class BankAccount with private attributes\n",
        "balance and methods to deposit, withdraw, and check balance."
      ],
      "metadata": {
        "id": "5mn6xS3-_kUA"
      }
    },
    {
      "cell_type": "code",
      "source": [
        "class BankAccount:\n",
        "    def __init__(self, initial_balance=0):\n",
        "        # Private attribute (encapsulation)\n",
        "        self.__balance = initial_balance\n",
        "\n",
        "    # Method to deposit money\n",
        "    def deposit(self, amount):\n",
        "        if amount > 0:\n",
        "            self.__balance += amount\n",
        "            print(f\"Deposited: {amount}\")\n",
        "        else:\n",
        "            print(\"Deposit amount must be positive.\")\n",
        "\n",
        "    # Method to withdraw money\n",
        "    def withdraw(self, amount):\n",
        "        if amount > 0 and amount <= self.__balance:\n",
        "            self.__balance -= amount\n",
        "            print(f\"Withdrew: {amount}\")\n",
        "        elif amount > self.__balance:\n",
        "            print(\"Insufficient balance!\")\n",
        "        else:\n",
        "            print(\"Withdrawal amount must be positive.\")\n",
        "\n",
        "    # Method to check balance (getter for encapsulated attribute)\n",
        "    def check_balance(self):\n",
        "        print(f\"Current balance: {self.__balance}\")\n",
        "\n",
        "# Creating an instance of BankAccount\n",
        "account = BankAccount(1000)\n",
        "\n",
        "# Deposit money\n",
        "account.deposit(500)\n",
        "\n",
        "# Withdraw money\n",
        "account.withdraw(200)\n",
        "\n",
        "# Check balance\n",
        "account.check_balance()\n",
        "\n",
        "# Attempt to directly access the private balance (this will raise an error)\n",
        "# print(account.__balance)  # Uncommenting this will raise an AttributeError\n"
      ],
      "metadata": {
        "colab": {
          "base_uri": "https://localhost:8080/"
        },
        "id": "-DtpNWnD_aPL",
        "outputId": "e5a2f98d-4ed2-4f5a-bcf4-e69f08237a7d"
      },
      "execution_count": null,
      "outputs": [
        {
          "output_type": "stream",
          "name": "stdout",
          "text": [
            "Deposited: 500\n",
            "Withdrew: 200\n",
            "Current balance: 1300\n"
          ]
        }
      ]
    },
    {
      "cell_type": "markdown",
      "source": [
        "6.  Demonstrate runtime polymorphism using a method play() in a base class Instrument. Derive classes Guitar\n",
        "and Piano that implement their own version of play()."
      ],
      "metadata": {
        "id": "qBZVIE_4fRzj"
      }
    },
    {
      "cell_type": "markdown",
      "source": [
        "7.  Create a class MathOperations with a class method add_numbers() to add two numbers and a static\n",
        "method subtract_numbers() to subtract two numbers."
      ],
      "metadata": {
        "id": "va59Jro2fv8O"
      }
    },
    {
      "cell_type": "code",
      "source": [
        "class MathOperations:\n",
        "    @classmethod\n",
        "    def add_numbers(cls, a, b):\n",
        "        return a + b\n",
        "\n",
        "    @staticmethod\n",
        "    def subtract_numbers(a, b):\n",
        "        return a - b\n",
        "\n",
        "# Example usage\n",
        "print(\"Addition:\", MathOperations.add_numbers(10, 5))      # Output: 15\n",
        "print(\"Subtraction:\", MathOperations.subtract_numbers(10, 5))  # Output: 5\n"
      ],
      "metadata": {
        "colab": {
          "base_uri": "https://localhost:8080/"
        },
        "id": "LAK_YqRGfr4s",
        "outputId": "3f3c7a76-54d9-4aac-8921-47828c0a7737"
      },
      "execution_count": 5,
      "outputs": [
        {
          "output_type": "stream",
          "name": "stdout",
          "text": [
            "Addition: 15\n",
            "Subtraction: 5\n"
          ]
        }
      ]
    },
    {
      "cell_type": "markdown",
      "source": [
        "8.  Implement a class Person with a class method to count the total number of persons created."
      ],
      "metadata": {
        "id": "uaoYlKo9f3u1"
      }
    },
    {
      "cell_type": "code",
      "source": [
        "class Person:\n",
        "    count = 0  # Class variable to keep track of number of instances\n",
        "\n",
        "    def __init__(self, name):\n",
        "        self.name = name\n",
        "        Person.count += 1\n",
        "\n",
        "    @classmethod\n",
        "    def get_person_count(cls):\n",
        "        return cls.count\n",
        "\n",
        "# Example usage\n",
        "p1 = Person(\"Alice\")\n",
        "p2 = Person(\"Bob\")\n",
        "p3 = Person(\"Charlie\")\n",
        "\n",
        "print(\"Total persons created:\", Person.get_person_count())  # Output: 3\n"
      ],
      "metadata": {
        "colab": {
          "base_uri": "https://localhost:8080/"
        },
        "id": "Jx_6DJzVf0jY",
        "outputId": "0c280ac7-d16f-4832-a9b8-758254221c7f"
      },
      "execution_count": 6,
      "outputs": [
        {
          "output_type": "stream",
          "name": "stdout",
          "text": [
            "Total persons created: 3\n"
          ]
        }
      ]
    },
    {
      "cell_type": "markdown",
      "source": [
        "9. Write a class Fraction with attributes numerator and denominator. Override the str method to display the\n",
        "fraction as \"numerator/denominator\"."
      ],
      "metadata": {
        "id": "xVfE2eWKf_NJ"
      }
    },
    {
      "cell_type": "code",
      "source": [
        "class Fraction:\n",
        "    def __init__(self, numerator, denominator):\n",
        "        self.numerator = numerator\n",
        "        self.denominator = denominator\n",
        "\n",
        "    def __str__(self):\n",
        "        return f\"{self.numerator}/{self.denominator}\"\n",
        "\n",
        "# Example usage\n",
        "f1 = Fraction(3, 4)\n",
        "f2 = Fraction(5, 8)\n",
        "\n",
        "print(f1)  # Output: 3/4\n",
        "print(f2)  # Output: 5/8\n"
      ],
      "metadata": {
        "colab": {
          "base_uri": "https://localhost:8080/"
        },
        "id": "dkfW5nFVf87S",
        "outputId": "5f612533-b3b4-4165-f266-1973e622f3ca"
      },
      "execution_count": 7,
      "outputs": [
        {
          "output_type": "stream",
          "name": "stdout",
          "text": [
            "3/4\n",
            "5/8\n"
          ]
        }
      ]
    },
    {
      "cell_type": "markdown",
      "source": [
        "10.  Demonstrate operator overloading by creating a class Vector and overriding the add method to add two\n",
        "vectors."
      ],
      "metadata": {
        "id": "d_KxffhRgF_J"
      }
    },
    {
      "cell_type": "code",
      "source": [
        "class Vector:\n",
        "    def __init__(self, x, y):\n",
        "        self.x = x\n",
        "        self.y = y\n",
        "\n",
        "    def __add__(self, other):\n",
        "        # Add corresponding components of the vectors\n",
        "        return Vector(self.x + other.x, self.y + other.y)\n",
        "\n",
        "    def __str__(self):\n",
        "        return f\"Vector({self.x}, {self.y})\"\n",
        "\n",
        "# Example usage\n",
        "v1 = Vector(2, 3)\n",
        "v2 = Vector(4, 5)\n",
        "v3 = v1 + v2  # Uses the __add__ method\n",
        "\n",
        "print(v3)  # Output: Vecto\n"
      ],
      "metadata": {
        "colab": {
          "base_uri": "https://localhost:8080/"
        },
        "id": "9YRFeQ3SgDS5",
        "outputId": "f15738fe-e8c1-4786-fe11-be4b6652a1f7"
      },
      "execution_count": 8,
      "outputs": [
        {
          "output_type": "stream",
          "name": "stdout",
          "text": [
            "Vector(6, 8)\n"
          ]
        }
      ]
    },
    {
      "cell_type": "markdown",
      "source": [
        "11. Create a class Person with attributes name and age. Add a method greet() that prints \"Hello, my name is\n",
        "{name} and I am {age} years old.\""
      ],
      "metadata": {
        "id": "BIN2H9MjgMxR"
      }
    },
    {
      "cell_type": "code",
      "source": [
        "class Person:\n",
        "    def __init__(self, name, age):\n",
        "        self.name = name\n",
        "        self.age = age\n",
        "\n",
        "    def greet(self):\n",
        "        print(f\"Hello, my name is {self.name} and I am {self.age} years old.\")\n",
        "\n",
        "# Example usage\n",
        "p1 = Person(\"Alice\", 30)\n",
        "p1.greet()  # Output: Hello, my name is Alice and I am 30 years old.\n"
      ],
      "metadata": {
        "colab": {
          "base_uri": "https://localhost:8080/"
        },
        "id": "WgwV07EhgKLo",
        "outputId": "65a6368a-91b7-43dd-f2a4-56322ddb8be2"
      },
      "execution_count": 9,
      "outputs": [
        {
          "output_type": "stream",
          "name": "stdout",
          "text": [
            "Hello, my name is Alice and I am 30 years old.\n"
          ]
        }
      ]
    },
    {
      "cell_type": "markdown",
      "source": [
        "12. . Implement a class Student with attributes name and grades. Create a method average_grade() to compute\n",
        "the average of the grades."
      ],
      "metadata": {
        "id": "mir1uLv3gTfD"
      }
    },
    {
      "cell_type": "code",
      "source": [
        "class Student:\n",
        "    def __init__(self, name, grades):\n",
        "        self.name = name\n",
        "        self.grades = grades  # Expected to be a list of numbers\n",
        "\n",
        "    def average_grade(self):\n",
        "        if not self.grades:\n",
        "            return 0\n",
        "        return sum(self.grades) / len(self.grades)\n",
        "\n",
        "# Example usage\n",
        "s1 = Student(\"John\", [85, 90, 78, 92])\n",
        "print(f\"{s1.name}'s average grade is: {s1.average_grade():.2f}\")  # Output: John's average grade is: 86.25\n"
      ],
      "metadata": {
        "colab": {
          "base_uri": "https://localhost:8080/"
        },
        "id": "6dxzbZ3RgQzU",
        "outputId": "7d02c521-4808-4d44-873c-6e18a85385e6"
      },
      "execution_count": 10,
      "outputs": [
        {
          "output_type": "stream",
          "name": "stdout",
          "text": [
            "John's average grade is: 86.25\n"
          ]
        }
      ]
    },
    {
      "cell_type": "markdown",
      "source": [
        "13. Create a class Rectangle with methods set_dimensions() to set the dimensions and area() to calculate the\n",
        "area.\n",
        "\n",
        "\n"
      ],
      "metadata": {
        "id": "extBkHrCgacl"
      }
    },
    {
      "cell_type": "code",
      "source": [
        "class Rectangle:\n",
        "    def __init__(self):\n",
        "        self.length = 0\n",
        "        self.width = 0\n",
        "\n",
        "    def set_dimensions(self, length, width):\n",
        "        self.length = length\n",
        "        self.width = width\n",
        "\n",
        "    def area(self):\n",
        "        return self.length * self.width\n",
        "\n",
        "# Example usage\n",
        "rect = Rectangle()\n",
        "rect.set_dimensions(6, 4)\n",
        "print(\"Area of the rectangle:\", rect.area())  # Output: 24\n"
      ],
      "metadata": {
        "colab": {
          "base_uri": "https://localhost:8080/"
        },
        "id": "8ggLTscagXwW",
        "outputId": "346edc86-53ab-4815-ac5b-3f949cea6cd6"
      },
      "execution_count": 12,
      "outputs": [
        {
          "output_type": "stream",
          "name": "stdout",
          "text": [
            "Area of the rectangle: 24\n"
          ]
        }
      ]
    },
    {
      "cell_type": "markdown",
      "source": [
        "14. Create a class Employee with a method calculate_salary() that computes the salary based on hours worked\n",
        "and hourly rate. Create a derived class Manager that adds a bonus to the salary."
      ],
      "metadata": {
        "id": "v3vVrTrYgqDV"
      }
    },
    {
      "cell_type": "code",
      "source": [
        "class Employee:\n",
        "    def __init__(self, name, hours_worked, hourly_rate):\n",
        "        self.name = name\n",
        "        self.hours_worked = hours_worked\n",
        "        self.hourly_rate = hourly_rate\n",
        "\n",
        "    def calculate_salary(self):\n",
        "        return self.hours_worked * self.hourly_rate\n",
        "\n",
        "class Manager(Employee):\n",
        "    def __init__(self, name, hours_worked, hourly_rate, bonus):\n",
        "        super().__init__(name, hours_worked, hourly_rate)  # Call the parent class constructor\n",
        "        self.bonus = bonus\n",
        "\n",
        "    def calculate_salary(self):\n",
        "        base_salary = super().calculate_salary()  # Calculate the base salary from the parent class\n",
        "        return base_salary + self.bonus\n",
        "\n",
        "# Example usage\n",
        "employee = Employee(\"John\", 40, 20)  # 40 hours worked, $20 per hour\n",
        "manager = Manager(\"Alice\", 40, 25, 1000)  # 40 hours worked, $25 per hour, $1000 bonus\n",
        "\n",
        "print(f\"{employee.name}'s salary: ${employee.calculate_salary()}\")  # Output: 80_\n"
      ],
      "metadata": {
        "colab": {
          "base_uri": "https://localhost:8080/"
        },
        "id": "33BgtN9egeGj",
        "outputId": "cc1b6788-7350-4a88-d4e0-882b71b7197e"
      },
      "execution_count": 13,
      "outputs": [
        {
          "output_type": "stream",
          "name": "stdout",
          "text": [
            "John's salary: $800\n"
          ]
        }
      ]
    },
    {
      "cell_type": "markdown",
      "source": [
        "15.  Create a class Product with attributes name, price, and quantity. Implement a method total_price() that\n",
        "calculates the total price of the product.\n"
      ],
      "metadata": {
        "id": "rltEVAmzgv0V"
      }
    },
    {
      "cell_type": "code",
      "source": [
        "class Product:\n",
        "    def __init__(self, name, price, quantity):\n",
        "        self.name = name\n",
        "        self.price = price\n",
        "        self.quantity = quantity\n",
        "\n",
        "    def total_price(self):\n",
        "        return self.price * self.quantity\n",
        "\n",
        "# Example usage\n",
        "product1 = Product(\"Laptop\", 1000, 3)\n",
        "product2 = Product(\"Phone\", 600, 5)\n",
        "\n",
        "print(f\"Total price of {product1.name}: ${product1.total_price()}\")  # Output: 3000\n",
        "print(f\"Total price of {product2.name}: ${product2.total_price()}\")  # Output: 3000\n"
      ],
      "metadata": {
        "colab": {
          "base_uri": "https://localhost:8080/"
        },
        "id": "-nJV6Eo2gtsw",
        "outputId": "79037ee2-ad11-4036-b7fe-499e3d091b0f"
      },
      "execution_count": 14,
      "outputs": [
        {
          "output_type": "stream",
          "name": "stdout",
          "text": [
            "Total price of Laptop: $3000\n",
            "Total price of Phone: $3000\n"
          ]
        }
      ]
    },
    {
      "cell_type": "markdown",
      "source": [
        "16.  Create a class Animal with an abstract method sound(). Create two derived classes Cow and Sheep that\n",
        "implement the sound() method."
      ],
      "metadata": {
        "id": "Z6mBhHQPg35B"
      }
    },
    {
      "cell_type": "code",
      "source": [
        "from abc import ABC, abstractmethod\n",
        "\n",
        "# Abstract base class\n",
        "class Animal(ABC):\n",
        "    @abstractmethod\n",
        "    def sound(self):\n",
        "        pass\n",
        "\n",
        "# Derived class: Cow\n",
        "class Cow(Animal):\n",
        "    def sound(self):\n",
        "        return \"Moo!\"\n",
        "\n",
        "# Derived class: Sheep\n",
        "class Sheep(Animal):\n",
        "    def sound(self):\n",
        "        return \"Baa!\"\n",
        "\n",
        "# Example usage\n",
        "cow = Cow()\n",
        "sheep = Sheep()\n",
        "\n",
        "print(f\"Cow sound: {cow.sound()}\")  # Output: Moo!\n",
        "print(f\"Sheep sound: {sheep.sound()}\")  # Output: Baa!\n"
      ],
      "metadata": {
        "colab": {
          "base_uri": "https://localhost:8080/"
        },
        "id": "ZTr7vL0gg1-G",
        "outputId": "7d210dcb-644f-472d-902a-5bce60a3816e"
      },
      "execution_count": 15,
      "outputs": [
        {
          "output_type": "stream",
          "name": "stdout",
          "text": [
            "Cow sound: Moo!\n",
            "Sheep sound: Baa!\n"
          ]
        }
      ]
    },
    {
      "cell_type": "markdown",
      "source": [
        "17. Create a class Book with attributes title, author, and year_published. Add a method get_book_info() that\n",
        "returns a formatted string with the book's details.\n"
      ],
      "metadata": {
        "id": "xkE61viLg-rx"
      }
    },
    {
      "cell_type": "code",
      "source": [
        "class Book:\n",
        "    def __init__(self, title, author, year_published):\n",
        "        self.title = title\n",
        "        self.author = author\n",
        "        self.year_published = year_published\n",
        "\n",
        "    def get_book_info(self):\n",
        "        return f\"Title: {self.title}\\nAuthor: {self.author}\\nYear Published: {self.year_published}\"\n",
        "\n",
        "# Example usage\n",
        "book1 = Book(\"1984\", \"George Orwell\", 1949)\n",
        "book2 = Book(\"To Kill a Mockingbird\", \"Harper Lee\", 1960)\n",
        "\n",
        "print(book1.get_book_info())\n",
        "# Output:\n",
        "# Title: 1984\n",
        "# Author: George Orwell\n",
        "# Year Published: 1949\n",
        "\n",
        "print(book2.get_book_info())\n",
        "# Output:\n",
        "# Title: To Kill a Mockingbird\n",
        "# Author: Harper Lee\n",
        "# Year Published: 1960\n"
      ],
      "metadata": {
        "colab": {
          "base_uri": "https://localhost:8080/"
        },
        "id": "3zq2j-FFg8Am",
        "outputId": "df2776bc-5cda-4a23-da9e-0e4f57391fb4"
      },
      "execution_count": 16,
      "outputs": [
        {
          "output_type": "stream",
          "name": "stdout",
          "text": [
            "Title: 1984\n",
            "Author: George Orwell\n",
            "Year Published: 1949\n",
            "Title: To Kill a Mockingbird\n",
            "Author: Harper Lee\n",
            "Year Published: 1960\n"
          ]
        }
      ]
    },
    {
      "cell_type": "markdown",
      "source": [
        "18.  Create a class House with attributes address and price. Create a derived class Mansion that adds an\n",
        "attribute number_of_rooms."
      ],
      "metadata": {
        "id": "rSKyKk18hFRZ"
      }
    },
    {
      "cell_type": "code",
      "source": [
        "# Base class: House\n",
        "class House:\n",
        "    def __init__(self, address, price):\n",
        "        self.address = address\n",
        "        self.price = price\n",
        "\n",
        "    def get_house_info(self):\n",
        "        return f\"Address: {self.address}\\nPrice: ${self.price}\"\n",
        "\n",
        "# Derived class: Mansion\n",
        "class Mansion(House):\n",
        "    def __init__(self, address, price, number_of_rooms):\n",
        "        super().__init__(address, price)  # Call the parent constructor\n",
        "        self.number_of_rooms = number_of_rooms\n",
        "\n",
        "    def get_mansion_info(self):\n",
        "        return f\"{self.get_house_info()}\\nNumber of rooms: {self.number_of_rooms}\"\n",
        "\n",
        "# Example usage\n",
        "house = House(\"123 Elm St\", 300000)\n",
        "mansion = Mansion(\"456 Oak Ave\", 1500000, 12)\n",
        "\n",
        "# Displaying info of both House and Mansion\n",
        "print(house.get_house_info())\n",
        "# Output:\n",
        "# Address: 123 Elm St\n",
        "# Price: $300000\n",
        "\n",
        "print(mansion.get_mansion_info())\n",
        "# Output:\n",
        "# Address: 456 Oak Ave\n",
        "# Price: $1500000\n",
        "# Number of rooms: 12\n"
      ],
      "metadata": {
        "colab": {
          "base_uri": "https://localhost:8080/"
        },
        "id": "GXoSdAHmhDTv",
        "outputId": "3df21944-4bf1-4ae9-b9a9-49ae4e2eba2c"
      },
      "execution_count": 18,
      "outputs": [
        {
          "output_type": "stream",
          "name": "stdout",
          "text": [
            "Address: 123 Elm St\n",
            "Price: $300000\n",
            "Address: 456 Oak Ave\n",
            "Price: $1500000\n",
            "Number of rooms: 12\n"
          ]
        }
      ]
    },
    {
      "cell_type": "code",
      "source": [],
      "metadata": {
        "id": "2J45NrNLhI8y"
      },
      "execution_count": null,
      "outputs": []
    }
  ]
}